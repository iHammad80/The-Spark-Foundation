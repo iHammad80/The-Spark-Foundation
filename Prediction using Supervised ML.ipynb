{
 "cells": [
  {
   "cell_type": "markdown",
   "id": "ccb66d76",
   "metadata": {},
   "source": [
    "# Prediction using Supervised ML"
   ]
  },
  {
   "cell_type": "code",
   "execution_count": 1,
   "id": "ae15caef",
   "metadata": {},
   "outputs": [],
   "source": [
    "import numpy as np\n",
    "import pandas as pd\n",
    "import matplotlib.pyplot as plt\n",
    "from sklearn.model_selection import train_test_split\n",
    "from sklearn.linear_model import LinearRegression\n",
    "from sklearn.metrics import mean_absolute_error, mean_squared_error\n",
    "import warnings"
   ]
  },
  {
   "cell_type": "code",
   "execution_count": 2,
   "id": "78d53619",
   "metadata": {},
   "outputs": [],
   "source": [
    "warnings.filterwarnings('ignore')"
   ]
  },
  {
   "cell_type": "code",
   "execution_count": 3,
   "id": "d449530b",
   "metadata": {},
   "outputs": [
    {
     "data": {
      "text/html": [
       "<div>\n",
       "<style scoped>\n",
       "    .dataframe tbody tr th:only-of-type {\n",
       "        vertical-align: middle;\n",
       "    }\n",
       "\n",
       "    .dataframe tbody tr th {\n",
       "        vertical-align: top;\n",
       "    }\n",
       "\n",
       "    .dataframe thead th {\n",
       "        text-align: right;\n",
       "    }\n",
       "</style>\n",
       "<table border=\"1\" class=\"dataframe\">\n",
       "  <thead>\n",
       "    <tr style=\"text-align: right;\">\n",
       "      <th></th>\n",
       "      <th>Hours</th>\n",
       "      <th>Scores</th>\n",
       "    </tr>\n",
       "  </thead>\n",
       "  <tbody>\n",
       "    <tr>\n",
       "      <th>0</th>\n",
       "      <td>2.5</td>\n",
       "      <td>21</td>\n",
       "    </tr>\n",
       "    <tr>\n",
       "      <th>1</th>\n",
       "      <td>5.1</td>\n",
       "      <td>47</td>\n",
       "    </tr>\n",
       "    <tr>\n",
       "      <th>2</th>\n",
       "      <td>3.2</td>\n",
       "      <td>27</td>\n",
       "    </tr>\n",
       "    <tr>\n",
       "      <th>3</th>\n",
       "      <td>8.5</td>\n",
       "      <td>75</td>\n",
       "    </tr>\n",
       "    <tr>\n",
       "      <th>4</th>\n",
       "      <td>3.5</td>\n",
       "      <td>30</td>\n",
       "    </tr>\n",
       "  </tbody>\n",
       "</table>\n",
       "</div>"
      ],
      "text/plain": [
       "   Hours  Scores\n",
       "0    2.5      21\n",
       "1    5.1      47\n",
       "2    3.2      27\n",
       "3    8.5      75\n",
       "4    3.5      30"
      ]
     },
     "execution_count": 3,
     "metadata": {},
     "output_type": "execute_result"
    }
   ],
   "source": [
    "data = pd.read_csv('http://bit.ly/w-data')\n",
    "data.head()"
   ]
  },
  {
   "cell_type": "code",
   "execution_count": 4,
   "id": "49e5e807",
   "metadata": {},
   "outputs": [],
   "source": [
    "target = data.Scores\n",
    "input1 = data.drop(['Scores'], axis = 1)"
   ]
  },
  {
   "cell_type": "code",
   "execution_count": 5,
   "id": "f7945b8d",
   "metadata": {},
   "outputs": [
    {
     "data": {
      "image/png": "[encoded data removed]",
      "text/plain": [
       "<Figure size 432x288 with 1 Axes>"
      ]
     },
     "metadata": {
      "needs_background": "light"
     },
     "output_type": "display_data"
    }
   ],
   "source": [
    "plt.scatter(input1, target)\n",
    "plt.xlabel('No of Hours', fontsize = 12)\n",
    "plt.ylabel('Score', fontsize = 12)\n",
    "plt.title('Supervised ML')\n",
    "plt.show()"
   ]
  },
  {
   "cell_type": "markdown",
   "id": "0d668065",
   "metadata": {},
   "source": [
    "#### Model Training."
   ]
  },
  {
   "cell_type": "code",
   "execution_count": 6,
   "id": "b983c6fc",
   "metadata": {},
   "outputs": [],
   "source": [
    "x_train, x_test, y_train, y_test = train_test_split(input1, target, test_size = 0.2, random_state = 0)"
   ]
  },
  {
   "cell_type": "code",
   "execution_count": 7,
   "id": "d962df34",
   "metadata": {},
   "outputs": [],
   "source": [
    "model = LinearRegression()\n",
    "my_model = model.fit(x_train, y_train)"
   ]
  },
  {
   "cell_type": "code",
   "execution_count": 8,
   "id": "bb6e3507",
   "metadata": {},
   "outputs": [],
   "source": [
    "prediction = my_model.predict(x_test)"
   ]
  },
  {
   "cell_type": "markdown",
   "id": "d3ca8ed9",
   "metadata": {},
   "source": [
    "#### Accuracy Score."
   ]
  },
  {
   "cell_type": "code",
   "execution_count": 9,
   "id": "284de91c",
   "metadata": {},
   "outputs": [
    {
     "name": "stdout",
     "output_type": "stream",
     "text": [
      "95.15510725211553 %\n"
     ]
    }
   ],
   "source": [
    "training_score = my_model.score(x_train, y_train)\n",
    "print(training_score * 100, '%')"
   ]
  },
  {
   "cell_type": "code",
   "execution_count": 10,
   "id": "d15d3fc6",
   "metadata": {},
   "outputs": [
    {
     "name": "stdout",
     "output_type": "stream",
     "text": [
      "94.54906892105356 %\n"
     ]
    }
   ],
   "source": [
    "testing_score = my_model.score(x_test, y_test)\n",
    "print(testing_score * 100, '%')"
   ]
  },
  {
   "cell_type": "markdown",
   "id": "e163cfa6",
   "metadata": {},
   "source": [
    "#### Testing our model for the input value 9.5"
   ]
  },
  {
   "cell_type": "code",
   "execution_count": 11,
   "id": "34a5c517",
   "metadata": {},
   "outputs": [
    {
     "name": "stdout",
     "output_type": "stream",
     "text": [
      "No of hours studied:  9.5\n",
      "Score:  [96.16939661]\n"
     ]
    }
   ],
   "source": [
    "hours = 9.5\n",
    "print('No of hours studied: ',hours)\n",
    "print('Score: ',my_model.predict([[hours]]))"
   ]
  },
  {
   "cell_type": "code",
   "execution_count": 12,
   "id": "108a41f9",
   "metadata": {},
   "outputs": [
    {
     "name": "stdout",
     "output_type": "stream",
     "text": [
      "Mean absolute error:  4.183859899002975\n",
      "Mean squared error:   21.5987693072174\n"
     ]
    }
   ],
   "source": [
    "print('Mean absolute error: ',mean_absolute_error(prediction, y_test))\n",
    "print('Mean squared error:  ',mean_squared_error(prediction, y_test))"
   ]
  },
  {
   "cell_type": "markdown",
   "id": "909bd183",
   "metadata": {},
   "source": [
    "### Plotting Regression Line "
   ]
  },
  {
   "cell_type": "code",
   "execution_count": 13,
   "id": "5bdcb50c",
   "metadata": {},
   "outputs": [
    {
     "data": {
      "image/png": "[encoded data removed]",
      "text/plain": [
       "<Figure size 432x288 with 1 Axes>"
      ]
     },
     "metadata": {
      "needs_background": "light"
     },
     "output_type": "display_data"
    }
   ],
   "source": [
    "plt.scatter(input1, target)\n",
    "plt.xlabel('No of hours')\n",
    "plt.ylabel('Scores')\n",
    "plt.title('Supervised ML')\n",
    "plt.plot(input1, model.predict(input1), color = 'r');\n",
    "plt.show()"
   ]
  }
 ],
 "metadata": {
  "kernelspec": {
   "display_name": "Python 3 (ipykernel)",
   "language": "python",
   "name": "python3"
  },
  "language_info": {
   "codemirror_mode": {
    "name": "ipython",
    "version": 3
   },
   "file_extension": ".py",
   "mimetype": "text/x-python",
   "name": "python",
   "nbconvert_exporter": "python",
   "pygments_lexer": "ipython3",
   "version": "3.9.7"
  }
 },
 "nbformat": 4,
 "nbformat_minor": 5
}
